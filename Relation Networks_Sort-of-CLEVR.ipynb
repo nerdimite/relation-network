{
 "cells": [
  {
   "cell_type": "markdown",
   "metadata": {},
   "source": [
    "# Relation Network\n",
    "## Sort-of-CLEVR Dataset"
   ]
  },
  {
   "cell_type": "markdown",
   "metadata": {},
   "source": [
    "## Data"
   ]
  },
  {
   "cell_type": "markdown",
   "metadata": {},
   "source": [
    "### Exploring the data"
   ]
  },
  {
   "cell_type": "code",
   "execution_count": 5,
   "metadata": {},
   "outputs": [],
   "source": [
    "from data_generator import build_sample, translate_sample"
   ]
  },
  {
   "cell_type": "code",
   "execution_count": 6,
   "metadata": {},
   "outputs": [],
   "source": [
    "sample = build_sample()"
   ]
  },
  {
   "cell_type": "code",
   "execution_count": 12,
   "metadata": {},
   "outputs": [
    {
     "data": {
      "text/plain": [
       "[3, 0, 3, 0, 0, 0, 1, 1, 0, 1]"
      ]
     },
     "execution_count": 12,
     "metadata": {},
     "output_type": "execute_result"
    }
   ],
   "source": [
    "sample[2][1]"
   ]
  },
  {
   "cell_type": "code",
   "execution_count": 13,
   "metadata": {},
   "outputs": [
    {
     "name": "stdout",
     "output_type": "stream",
     "text": [
      "Q0. How many objects of the same shape as the orange object are there? ==> 1\n",
      "Q1. What is the furthest shape from the red object? ==> rectangle\n",
      "Q2. How many objects of the same shape as the green object are there? ==> 5\n",
      "Q3. What is the furthest shape from the orange object? ==> circle\n",
      "Q4. What is the closest shape to the yellow object? ==> circle\n",
      "Q5. How many objects of the same shape as the blue object are there? ==> 5\n",
      "Q6. How many objects of the same shape as the yellow object are there? ==> 5\n",
      "Q7. What is the furthest shape from the yellow object? ==> rectangle\n",
      "Q8. What is the furthest shape from the red object? ==> rectangle\n",
      "Q9. How many objects of the same shape as the yellow object are there? ==> 5\n",
      "Q10. What is the shape of the red object? ==> circle\n",
      "Q11. Is there a yellow object on the top? ==> yes\n",
      "Q12. What is the shape of the blue object? ==> circle\n",
      "Q13. Is there a yellow object on the left? ==> yes\n",
      "Q14. Is there a yellow object on the top? ==> yes\n",
      "Q15. Is there a gray object on the left? ==> yes\n",
      "Q16. Is there a gray object on the top? ==> no\n",
      "Q17. Is there a green object on the left? ==> no\n",
      "Q18. Is there a blue object on the top? ==> yes\n",
      "Q19. Is there a orange object on the top? ==> no\n"
     ]
    }
   ],
   "source": [
    "translate_sample(sample, show_img=True)"
   ]
  },
  {
   "cell_type": "markdown",
   "metadata": {},
   "source": [
    "### Generating the Data"
   ]
  },
  {
   "cell_type": "code",
   "execution_count": 1,
   "metadata": {},
   "outputs": [
    {
     "name": "stdout",
     "output_type": "stream",
     "text": [
      "Building Train Dataset...\n",
      "Building Test Dataset...\n",
      "Saving Datasets...\n",
      "Datasets saved at ./data\n"
     ]
    }
   ],
   "source": [
    "!python data_generator.py"
   ]
  },
  {
   "cell_type": "markdown",
   "metadata": {},
   "source": [
    "## Train"
   ]
  },
  {
   "cell_type": "code",
   "execution_count": null,
   "metadata": {},
   "outputs": [],
   "source": [
    "!python train.py"
   ]
  },
  {
   "cell_type": "markdown",
   "metadata": {},
   "source": [
    "## Predictions"
   ]
  },
  {
   "cell_type": "code",
   "execution_count": 14,
   "metadata": {},
   "outputs": [],
   "source": [
    "import cv2\n",
    "import numpy as np\n",
    "import torch\n",
    "from model import RNModel"
   ]
  },
  {
   "cell_type": "code",
   "execution_count": 15,
   "metadata": {},
   "outputs": [
    {
     "name": "stdout",
     "output_type": "stream",
     "text": [
      "Q0. How many objects of the same shape as the orange object are there? ==> 1\n",
      "Q1. What is the furthest shape from the red object? ==> rectangle\n",
      "Q2. How many objects of the same shape as the green object are there? ==> 5\n",
      "Q3. What is the furthest shape from the orange object? ==> circle\n",
      "Q4. What is the closest shape to the yellow object? ==> circle\n",
      "Q5. How many objects of the same shape as the blue object are there? ==> 5\n",
      "Q6. How many objects of the same shape as the yellow object are there? ==> 5\n",
      "Q7. What is the furthest shape from the yellow object? ==> rectangle\n",
      "Q8. What is the furthest shape from the red object? ==> rectangle\n",
      "Q9. How many objects of the same shape as the yellow object are there? ==> 5\n",
      "Q10. What is the shape of the red object? ==> circle\n",
      "Q11. Is there a yellow object on the top? ==> yes\n",
      "Q12. What is the shape of the blue object? ==> circle\n",
      "Q13. Is there a yellow object on the left? ==> yes\n",
      "Q14. Is there a yellow object on the top? ==> yes\n",
      "Q15. Is there a gray object on the left? ==> yes\n",
      "Q16. Is there a gray object on the top? ==> no\n",
      "Q17. Is there a green object on the left? ==> no\n",
      "Q18. Is there a blue object on the top? ==> yes\n",
      "Q19. Is there a orange object on the top? ==> no\n"
     ]
    }
   ],
   "source": [
    "translate_sample(sample)"
   ]
  },
  {
   "cell_type": "code",
   "execution_count": 16,
   "metadata": {},
   "outputs": [
    {
     "data": {
      "text/plain": [
       "True"
      ]
     },
     "execution_count": 16,
     "metadata": {},
     "output_type": "execute_result"
    }
   ],
   "source": [
    "cv2.imwrite('sample.jpg', cv2.resize(sample[0]*255, (512, 512)))"
   ]
  },
  {
   "cell_type": "code",
   "execution_count": 17,
   "metadata": {},
   "outputs": [],
   "source": [
    "def preprocess_sample(sample):\n",
    "    '''Preprocess a single sample'''\n",
    "    img = np.swapaxes(sample[0], 0, 2)\n",
    "    relations = sample[1]\n",
    "    norelations = sample[2]\n",
    "    \n",
    "    sample_data = []\n",
    "    for ques, ans in zip(relations[0], relations[1]):\n",
    "        sample_data.append((img, ques, ans))\n",
    "    for ques, ans in zip(norelations[0], norelations[1]):\n",
    "        sample_data.append((img, ques, ans))\n",
    "        \n",
    "    imgs = [e[0] for e in sample_data]\n",
    "    ques = [e[1] for e in sample_data]\n",
    "    ans = [e[2] for e in sample_data]\n",
    "    \n",
    "    return torch.Tensor(imgs).float(), torch.Tensor(ques).float(), torch.Tensor(ans).long()"
   ]
  },
  {
   "cell_type": "code",
   "execution_count": 18,
   "metadata": {},
   "outputs": [],
   "source": [
    "# Preprocess the inputs\n",
    "imgs, ques, ans = preprocess_sample(sample)"
   ]
  },
  {
   "cell_type": "code",
   "execution_count": 19,
   "metadata": {},
   "outputs": [
    {
     "data": {
      "text/plain": [
       "<All keys matched successfully>"
      ]
     },
     "execution_count": 19,
     "metadata": {},
     "output_type": "execute_result"
    }
   ],
   "source": [
    "# Create model and load the weights\n",
    "model = RNModel(None)\n",
    "model.load_state_dict(torch.load('models/epoch_40.pth'))"
   ]
  },
  {
   "cell_type": "code",
   "execution_count": 20,
   "metadata": {},
   "outputs": [],
   "source": [
    "# Make prediction\n",
    "output = model(imgs, ques)"
   ]
  },
  {
   "cell_type": "code",
   "execution_count": 21,
   "metadata": {},
   "outputs": [],
   "source": [
    "answer_map = ['yes', 'no', 'rectangle', 'circle', '1', '2', '3', '4', '5', '6']"
   ]
  },
  {
   "cell_type": "code",
   "execution_count": 22,
   "metadata": {},
   "outputs": [],
   "source": [
    "pred = output.argmax(1)\n",
    "accuracy = pred.eq(ans.data).cpu().sum() * 100. / len(ans)"
   ]
  },
  {
   "cell_type": "code",
   "execution_count": 23,
   "metadata": {},
   "outputs": [
    {
     "name": "stdout",
     "output_type": "stream",
     "text": [
      "Predicted Answers:\n",
      "['2', 'rectangle', '4', 'rectangle', 'circle', '4', '4', 'rectangle', 'rectangle', '4', 'circle', 'yes', 'circle', 'yes', 'yes', 'yes', 'no', 'no', 'yes', 'no']\n",
      "\n",
      "Accuracy: 70.0\n"
     ]
    }
   ],
   "source": [
    "pred_ans = [answer_map[i] for i in output.argmax(1)]\n",
    "print(f'Predicted Answers:\\n{pred_ans}')\n",
    "print('\\nAccuracy:', accuracy.item())"
   ]
  },
  {
   "cell_type": "code",
   "execution_count": null,
   "metadata": {},
   "outputs": [],
   "source": []
  }
 ],
 "metadata": {
  "kernelspec": {
   "display_name": "Python 3",
   "language": "python",
   "name": "python3"
  },
  "language_info": {
   "codemirror_mode": {
    "name": "ipython",
    "version": 3
   },
   "file_extension": ".py",
   "mimetype": "text/x-python",
   "name": "python",
   "nbconvert_exporter": "python",
   "pygments_lexer": "ipython3",
   "version": "3.7.7"
  }
 },
 "nbformat": 4,
 "nbformat_minor": 4
}
